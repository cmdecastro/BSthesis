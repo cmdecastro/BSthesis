{
 "cells": [
  {
   "cell_type": "code",
   "execution_count": 2,
   "metadata": {},
   "outputs": [],
   "source": [
    "import numpy as np\n",
    "import matplotlib.pyplot as plt\n",
    "import pandas as pd\n",
    "import matplotlib.cm as cm\n",
    "from sklearn.decomposition import PCA\n",
    "from sklearn.cluster import KMeans\n",
    "from sklearn.metrics import silhouette_samples, silhouette_score"
   ]
  },
  {
   "cell_type": "markdown",
   "metadata": {},
   "source": [
    "## Initialization"
   ]
  },
  {
   "cell_type": "code",
   "execution_count": 5,
   "metadata": {},
   "outputs": [],
   "source": [
    "#candidates arranged from most to least number of votes\n",
    "candidates = np.load('2019_candidates.npy')"
   ]
  },
  {
   "cell_type": "code",
   "execution_count": 6,
   "metadata": {},
   "outputs": [],
   "source": [
    "#senator votes arranged from highest to lowest overall\n",
    "vote_data = pd.read_csv('senators_2019.csv',header=None).values"
   ]
  },
  {
   "cell_type": "markdown",
   "metadata": {},
   "source": [
    "## Get overall cumulative distribution of votes for each candidate"
   ]
  },
  {
   "cell_type": "code",
   "execution_count": 7,
   "metadata": {},
   "outputs": [],
   "source": [
    "def cum_distribution():\n",
    "    cum_votes = []\n",
    "\n",
    "    for i in range(len(candidates)):\n",
    "        #get histogram of votes with 60 bins\n",
    "        freq = np.histogram(vote_data.T[i],bins=60,range=[0,1])[0]\n",
    "        \n",
    "        #cumulative votes\n",
    "        cum_vals = np.cumsum(freq)\n",
    "        \n",
    "        #normalize\n",
    "        cum_votes.append(cum_vals/np.max(cum_vals))\n",
    "\n",
    "    cum_votes = np.array(cum_votes)\n",
    "    \n",
    "    return cum_votes"
   ]
  },
  {
   "cell_type": "code",
   "execution_count": 8,
   "metadata": {},
   "outputs": [
    {
     "name": "stderr",
     "output_type": "stream",
     "text": [
      "/usr/local/anaconda3/lib/python3.6/site-packages/numpy/lib/histograms.py:754: RuntimeWarning: invalid value encountered in greater_equal\n",
      "  keep = (tmp_a >= first_edge)\n",
      "/usr/local/anaconda3/lib/python3.6/site-packages/numpy/lib/histograms.py:755: RuntimeWarning: invalid value encountered in less_equal\n",
      "  keep &= (tmp_a <= last_edge)\n"
     ]
    }
   ],
   "source": [
    "cum_votes = cum_distribution()"
   ]
  },
  {
   "cell_type": "markdown",
   "metadata": {},
   "source": [
    "## Perform PCA on cumulative distribution"
   ]
  },
  {
   "cell_type": "code",
   "execution_count": 9,
   "metadata": {},
   "outputs": [],
   "source": [
    "cumulative_EV = [] #cumulative explained variance\n",
    "dimensions = [] \n",
    "explained_var = [] #explained variance per dimension\n",
    "\n",
    "max_components = 20\n",
    "\n",
    "for i in range(max_components):\n",
    "    #perform PCA using scikit function\n",
    "    pca = PCA(n_components = i+1,svd_solver='full') #calculate covariance matrix\n",
    "    y = pca.fit(cum_votes)\n",
    "    \n",
    "    explained_variance_ratio = y.explained_variance_ratio_\n",
    "    explained_var.append(explained_variance_ratio[-1]*100)\n",
    "    cumulative_EV.append(sum(explained_variance_ratio)*100)\n",
    "    dimensions.append(i+1)"
   ]
  },
  {
   "cell_type": "markdown",
   "metadata": {},
   "source": [
    "### Apply elbow method to PCA"
   ]
  },
  {
   "cell_type": "code",
   "execution_count": 10,
   "metadata": {},
   "outputs": [
    {
     "data": {
      "image/png": "[encoded data removed]",
      "text/plain": [
       "<Figure size 576x432 with 1 Axes>"
      ]
     },
     "metadata": {
      "needs_background": "light"
     },
     "output_type": "display_data"
    }
   ],
   "source": [
    "plt.figure(figsize=(8,6))\n",
    "plt.plot(dimensions,cumulative_EV,color=\"purple\",marker='o')\n",
    "plt.xlabel(\"dimensions\",fontsize=16)\n",
    "plt.ylabel(\"% variability explained\",fontsize=16)\n",
    "plt.xlim(1,max_components)\n",
    "plt.xticks(np.arange(max_components)+1)\n",
    "# plt.savefig('pca.png',dpi=300,bbox_inches='tight')\n",
    "plt.show()"
   ]
  },
  {
   "cell_type": "markdown",
   "metadata": {},
   "source": [
    "### Create table of variance explained per dimension"
   ]
  },
  {
   "cell_type": "code",
   "execution_count": 11,
   "metadata": {},
   "outputs": [],
   "source": [
    "table = pd.DataFrame({'dimensions': dimensions,\n",
    "                      '% variance explained': explained_var, \n",
    "                   'cumulative % variance explained': cumulative_EV})"
   ]
  },
  {
   "cell_type": "code",
   "execution_count": 12,
   "metadata": {},
   "outputs": [
    {
     "data": {
      "text/html": [
       "<div>\n",
       "<style scoped>\n",
       "    .dataframe tbody tr th:only-of-type {\n",
       "        vertical-align: middle;\n",
       "    }\n",
       "\n",
       "    .dataframe tbody tr th {\n",
       "        vertical-align: top;\n",
       "    }\n",
       "\n",
       "    .dataframe thead th {\n",
       "        text-align: right;\n",
       "    }\n",
       "</style>\n",
       "<table border=\"1\" class=\"dataframe\">\n",
       "  <thead>\n",
       "    <tr style=\"text-align: right;\">\n",
       "      <th></th>\n",
       "      <th>dimensions</th>\n",
       "      <th>% variance explained</th>\n",
       "      <th>cumulative % variance explained</th>\n",
       "    </tr>\n",
       "  </thead>\n",
       "  <tbody>\n",
       "    <tr>\n",
       "      <th>0</th>\n",
       "      <td>1</td>\n",
       "      <td>87.354740</td>\n",
       "      <td>87.354740</td>\n",
       "    </tr>\n",
       "    <tr>\n",
       "      <th>1</th>\n",
       "      <td>2</td>\n",
       "      <td>8.880521</td>\n",
       "      <td>96.235262</td>\n",
       "    </tr>\n",
       "    <tr>\n",
       "      <th>2</th>\n",
       "      <td>3</td>\n",
       "      <td>2.695222</td>\n",
       "      <td>98.930484</td>\n",
       "    </tr>\n",
       "    <tr>\n",
       "      <th>3</th>\n",
       "      <td>4</td>\n",
       "      <td>0.726314</td>\n",
       "      <td>99.656797</td>\n",
       "    </tr>\n",
       "    <tr>\n",
       "      <th>4</th>\n",
       "      <td>5</td>\n",
       "      <td>0.207270</td>\n",
       "      <td>99.864067</td>\n",
       "    </tr>\n",
       "    <tr>\n",
       "      <th>5</th>\n",
       "      <td>6</td>\n",
       "      <td>0.075062</td>\n",
       "      <td>99.939129</td>\n",
       "    </tr>\n",
       "    <tr>\n",
       "      <th>6</th>\n",
       "      <td>7</td>\n",
       "      <td>0.034612</td>\n",
       "      <td>99.973741</td>\n",
       "    </tr>\n",
       "  </tbody>\n",
       "</table>\n",
       "</div>"
      ],
      "text/plain": [
       "   dimensions  % variance explained  cumulative % variance explained\n",
       "0           1             87.354740                        87.354740\n",
       "1           2              8.880521                        96.235262\n",
       "2           3              2.695222                        98.930484\n",
       "3           4              0.726314                        99.656797\n",
       "4           5              0.207270                        99.864067\n",
       "5           6              0.075062                        99.939129\n",
       "6           7              0.034612                        99.973741"
      ]
     },
     "execution_count": 12,
     "metadata": {},
     "output_type": "execute_result"
    }
   ],
   "source": [
    "table.head(7)"
   ]
  },
  {
   "cell_type": "markdown",
   "metadata": {},
   "source": [
    "## Reduce number of features using PCA"
   ]
  },
  {
   "cell_type": "code",
   "execution_count": 13,
   "metadata": {},
   "outputs": [],
   "source": [
    "#set n_components=2 to denote reduction of data to 2 dimensions\n",
    "pca = PCA(n_components=2, svd_solver='full')\n",
    "y = pca.fit(cum_votes)\n",
    "components_after_pca = y.components_\n",
    "reduced_features = y.transform(cum_votes)\n",
    "cov_mat = y.get_covariance()"
   ]
  },
  {
   "cell_type": "markdown",
   "metadata": {},
   "source": [
    "## Plot new features"
   ]
  },
  {
   "cell_type": "code",
   "execution_count": 15,
   "metadata": {},
   "outputs": [],
   "source": [
    "def archetype_plots(arc_senators):    \n",
    "    normalization = []\n",
    "\n",
    "    for n in range(arc_senators.shape[0]):\n",
    "        sorted_arc = arc_senators[n]\n",
    "        \n",
    "        peak = max(sorted_arc)\n",
    "        mean = np.mean(sorted_arc)\n",
    "        sigma = np.std(sorted_arc)\n",
    "        \n",
    "        plt.figure(figsize=(8.5,6))\n",
    "        \n",
    "        plt.bar(np.arange(len(arc_senators.T)),sorted_arc/peak)\n",
    "        plt.axhline((mean+sigma)/peak,color='black',linestyle='--',label='$\\mu + \\sigma$')\n",
    "        plt.xticks(np.arange(0,len(arc_senators.T)+1,5))\n",
    "        plt.xlabel('candidate',fontsize=14)\n",
    "        plt.ylabel('amplitude',fontsize=14)\n",
    "        plt.grid(b=True,axis='both')\n",
    "        plt.margins(0.03)\n",
    "        plt.legend(loc='lower right')\n",
    "        plt.title('2013 PC'+str(n+1),fontsize=16)\n",
    "        \n",
    "#         plt.savefig('2013_PC'+str(n+1)+'.png',dpi=300,bbox_inches='tight')\n",
    "        plt.show()\n",
    "\n",
    "        normalization.append(peak)\n",
    "        \n",
    "    return normalization"
   ]
  },
  {
   "cell_type": "code",
   "execution_count": 16,
   "metadata": {},
   "outputs": [
    {
     "data": {
      "image/png": "[encoded data removed]",
      "text/plain": [
       "<Figure size 612x432 with 1 Axes>"
      ]
     },
     "metadata": {
      "needs_background": "light"
     },
     "output_type": "display_data"
    },
    {
     "data": {
      "image/png": "[encoded data removed]",
      "text/plain": [
       "<Figure size 612x432 with 1 Axes>"
      ]
     },
     "metadata": {
      "needs_background": "light"
     },
     "output_type": "display_data"
    }
   ],
   "source": [
    "normalization = archetype_plots(reduced_features.T)"
   ]
  },
  {
   "cell_type": "markdown",
   "metadata": {},
   "source": [
    "# K-means Clustering"
   ]
  },
  {
   "cell_type": "markdown",
   "metadata": {},
   "source": [
    "## Apply elbow method to determine number of clusters"
   ]
  },
  {
   "cell_type": "code",
   "execution_count": 18,
   "metadata": {},
   "outputs": [],
   "source": [
    "def elbow_method(cum_votes): # calculate distortion for a range of number of cluster\n",
    "    distortions = []\n",
    "    \n",
    "    #use kmeans on cumulative votes for K=1 to K=15\n",
    "    for i in range(1, 15):\n",
    "        #use kmeans function from scikit\n",
    "        kmeans = KMeans(\n",
    "            n_clusters=i, init='random',\n",
    "            n_init=10, max_iter=300,\n",
    "            tol=1e-04, random_state=0\n",
    "        )\n",
    "        kmeans.fit(cum_votes)\n",
    "        \n",
    "        #calculate mean squared error for each K\n",
    "        distortions.append(kmeans.inertia_)\n",
    "\n",
    "    # plot distortion vs K\n",
    "    plt.figure(figsize=(8,6))\n",
    "    plt.plot(range(1, 15), distortions, marker='o')\n",
    "    plt.xlabel('Number of clusters',fontsize=18)\n",
    "    plt.ylabel('Distortion',fontsize=18)\n",
    "#     plt.savefig('elbow_2013_kmeans.png',bbox_inches='tight',dpi=600)\n",
    "    plt.show()"
   ]
  },
  {
   "cell_type": "code",
   "execution_count": 19,
   "metadata": {},
   "outputs": [
    {
     "data": {
      "image/png": "[encoded data removed]",
      "text/plain": [
       "<Figure size 576x432 with 1 Axes>"
      ]
     },
     "metadata": {
      "needs_background": "light"
     },
     "output_type": "display_data"
    }
   ],
   "source": [
    "#apply elbow method on the reduced features\n",
    "elbow_method(reduced_features)"
   ]
  },
  {
   "cell_type": "markdown",
   "metadata": {},
   "source": [
    "## Silhouette Analysis"
   ]
  },
  {
   "cell_type": "code",
   "execution_count": 20,
   "metadata": {},
   "outputs": [],
   "source": [
    "#perform silhouette analysis for K=2 to K=5 where the elbow looks to be around\n",
    "range_n_clusters = [2, 3, 4, 5]"
   ]
  },
  {
   "cell_type": "code",
   "execution_count": 21,
   "metadata": {},
   "outputs": [
    {
     "name": "stdout",
     "output_type": "stream",
     "text": [
      "\n",
      " For n_clusters = 2 The average silhouette_score is : 0.7065074474797002\n",
      "Number of samples with silhouette greater than or equal to average : 43 / 62\n",
      "Index of samples with negative silhouettes : []\n",
      "\n",
      " For n_clusters = 3 The average silhouette_score is : 0.664048635026242\n",
      "Number of samples with silhouette greater than or equal to average : 34 / 62\n",
      "Index of samples with negative silhouettes : []\n",
      "\n",
      " For n_clusters = 4 The average silhouette_score is : 0.6501376007916526\n",
      "Number of samples with silhouette greater than or equal to average : 37 / 62\n",
      "Index of samples with negative silhouettes : []\n",
      "\n",
      " For n_clusters = 5 The average silhouette_score is : 0.6383760243931426\n",
      "Number of samples with silhouette greater than or equal to average : 37 / 62\n",
      "Index of samples with negative silhouettes : []\n"
     ]
    },
    {
     "data": {
      "image/png": "[encoded data removed]",
      "text/plain": [
       "<Figure size 576x432 with 1 Axes>"
      ]
     },
     "metadata": {
      "needs_background": "light"
     },
     "output_type": "display_data"
    },
    {
     "data": {
      "image/png": "[encoded data removed]",
      "text/plain": [
       "<Figure size 576x432 with 1 Axes>"
      ]
     },
     "metadata": {
      "needs_background": "light"
     },
     "output_type": "display_data"
    },
    {
     "data": {
      "image/png": "[encoded data removed]",
      "text/plain": [
       "<Figure size 576x432 with 1 Axes>"
      ]
     },
     "metadata": {
      "needs_background": "light"
     },
     "output_type": "display_data"
    },
    {
     "data": {
      "image/png": "[encoded data removed]",
      "text/plain": [
       "<Figure size 576x432 with 1 Axes>"
      ]
     },
     "metadata": {
      "needs_background": "light"
     },
     "output_type": "display_data"
    }
   ],
   "source": [
    "for n in range_n_clusters:\n",
    "    \n",
    "    #same parameters as the elbow method\n",
    "    clusterer = KMeans(n_clusters=n, init='random',\n",
    "    n_init=10, max_iter=300, \n",
    "    tol=1e-04, random_state=0)\n",
    "    cluster_labels = clusterer.fit_predict(cum_votes)\n",
    "\n",
    "    #compute the average silhouette score\n",
    "    silhouette_avg = silhouette_score(cum_votes, cluster_labels)\n",
    "    \n",
    "    #compute the silhouette scores for each sample\n",
    "    sample_silhouette_values = silhouette_samples(cum_votes, cluster_labels)\n",
    "    \n",
    "    print(\"\\n For n_clusters =\", n,\n",
    "          \"The average silhouette_score is :\", silhouette_avg)\n",
    "    print(\"Number of samples with silhouette greater than or equal to average :\", \n",
    "          len(sample_silhouette_values[sample_silhouette_values>silhouette_avg]),\"/\",len(sample_silhouette_values))\n",
    "    print(\"Index of samples with negative silhouettes :\", np.where(sample_silhouette_values<0)[0])\n",
    "\n",
    "    y_lower = 1\n",
    "    \n",
    "    plt.figure(figsize=(8,6))\n",
    "    \n",
    "    for i in range(n):\n",
    "        #group silhoutte scores per cluster\n",
    "        ith_cluster_silhouette_values = \\\n",
    "            sample_silhouette_values[cluster_labels == i]\n",
    "        \n",
    "        #sort silhouette scores\n",
    "        ith_cluster_silhouette_values.sort()\n",
    "\n",
    "        size_cluster_i = ith_cluster_silhouette_values.shape[0]\n",
    "        y_upper = y_lower + size_cluster_i\n",
    "        \n",
    "        #fill the silhouette plots with color\n",
    "        color = cm.nipy_spectral(float(i) / n)\n",
    "        plt.fill_betweenx(np.arange(y_lower, y_upper),\n",
    "                          0, ith_cluster_silhouette_values,\n",
    "                          facecolor=color, edgecolor=color, alpha=0.7)\n",
    "\n",
    "        #label the silhouette plots with their cluster numbers at the middle\n",
    "        plt.text(-0.05, y_lower + 0.5 * size_cluster_i, str(i),fontsize=14)\n",
    "\n",
    "        #compute the new y_lower for next plot\n",
    "        y_lower = y_upper + 1  \n",
    "    \n",
    "    plt.xlabel(\"silhouette scores\",fontsize=16)\n",
    "    plt.ylabel(\"cluster\",fontsize=16)\n",
    "\n",
    "    #plot average silhouette score of all samples\n",
    "    plt.axvline(x=silhouette_avg, color=\"red\", linestyle=\"--\")\n",
    "\n",
    "    plt.yticks([])\n",
    "    plt.xticks([-0.1, 0, 0.2, 0.4, 0.6, 0.8, 1])\n",
    "\n",
    "    plt.ylim(0,len(cum_votes)+n)\n",
    "    \n",
    "#     plt.savefig('2019_silhouette_'+str(n)+'.png',dpi=300,bbox_inches='tight')"
   ]
  },
  {
   "cell_type": "markdown",
   "metadata": {},
   "source": [
    "## K-means clustering"
   ]
  },
  {
   "cell_type": "code",
   "execution_count": 22,
   "metadata": {},
   "outputs": [],
   "source": [
    "def kmeans(cluster_num,cum_votes):\n",
    "    \n",
    "    kmeans = KMeans(\n",
    "    n_clusters=cluster_num, init='random',\n",
    "    n_init=10, max_iter=300, \n",
    "    tol=1e-04, random_state=0)\n",
    "    \n",
    "    cluster_labels = kmeans.fit_predict(cum_votes) #cluster labels per candidate\n",
    "    \n",
    "    return cluster_labels"
   ]
  },
  {
   "cell_type": "markdown",
   "metadata": {},
   "source": [
    "## Apply K-means clustering to cumulative votes with reduced features"
   ]
  },
  {
   "cell_type": "code",
   "execution_count": 41,
   "metadata": {},
   "outputs": [],
   "source": [
    "#set K=2\n",
    "overall_labels = kmeans(5,reduced_features)"
   ]
  },
  {
   "cell_type": "code",
   "execution_count": 25,
   "metadata": {},
   "outputs": [
    {
     "name": "stdout",
     "output_type": "stream",
     "text": [
      "After reclassifying sample with negative silhouette, new average is:  0.7331000496437877\n"
     ]
    }
   ],
   "source": [
    "overall_labels[16] = 0\n",
    "silhouette_avg = silhouette_score(reduced_features, overall_labels)\n",
    "print('After reclassifying sample with negative silhouette, new average is: ',silhouette_avg)"
   ]
  },
  {
   "cell_type": "markdown",
   "metadata": {},
   "source": [
    "## Create dataframe of cluster labels"
   ]
  },
  {
   "cell_type": "code",
   "execution_count": 42,
   "metadata": {},
   "outputs": [],
   "source": [
    "overall_df = pd.DataFrame({'candidate': candidates,\n",
    "                   'overall cluster': overall_labels+1})"
   ]
  },
  {
   "cell_type": "code",
   "execution_count": 43,
   "metadata": {},
   "outputs": [
    {
     "data": {
      "text/html": [
       "<div>\n",
       "<style scoped>\n",
       "    .dataframe tbody tr th:only-of-type {\n",
       "        vertical-align: middle;\n",
       "    }\n",
       "\n",
       "    .dataframe tbody tr th {\n",
       "        vertical-align: top;\n",
       "    }\n",
       "\n",
       "    .dataframe thead th {\n",
       "        text-align: right;\n",
       "    }\n",
       "</style>\n",
       "<table border=\"1\" class=\"dataframe\">\n",
       "  <thead>\n",
       "    <tr style=\"text-align: right;\">\n",
       "      <th></th>\n",
       "      <th>candidate</th>\n",
       "      <th>overall cluster</th>\n",
       "    </tr>\n",
       "  </thead>\n",
       "  <tbody>\n",
       "    <tr>\n",
       "      <th>0</th>\n",
       "      <td>Villar</td>\n",
       "      <td>1</td>\n",
       "    </tr>\n",
       "    <tr>\n",
       "      <th>1</th>\n",
       "      <td>Poe</td>\n",
       "      <td>1</td>\n",
       "    </tr>\n",
       "    <tr>\n",
       "      <th>2</th>\n",
       "      <td>Go</td>\n",
       "      <td>1</td>\n",
       "    </tr>\n",
       "    <tr>\n",
       "      <th>3</th>\n",
       "      <td>Cayetano</td>\n",
       "      <td>1</td>\n",
       "    </tr>\n",
       "    <tr>\n",
       "      <th>4</th>\n",
       "      <td>Dela Rosa</td>\n",
       "      <td>1</td>\n",
       "    </tr>\n",
       "    <tr>\n",
       "      <th>5</th>\n",
       "      <td>Angara</td>\n",
       "      <td>1</td>\n",
       "    </tr>\n",
       "    <tr>\n",
       "      <th>6</th>\n",
       "      <td>Lapid</td>\n",
       "      <td>5</td>\n",
       "    </tr>\n",
       "    <tr>\n",
       "      <th>7</th>\n",
       "      <td>Marcos</td>\n",
       "      <td>5</td>\n",
       "    </tr>\n",
       "    <tr>\n",
       "      <th>8</th>\n",
       "      <td>Tolentino</td>\n",
       "      <td>5</td>\n",
       "    </tr>\n",
       "    <tr>\n",
       "      <th>9</th>\n",
       "      <td>Pimentel</td>\n",
       "      <td>5</td>\n",
       "    </tr>\n",
       "    <tr>\n",
       "      <th>10</th>\n",
       "      <td>Bong Revilla</td>\n",
       "      <td>5</td>\n",
       "    </tr>\n",
       "    <tr>\n",
       "      <th>11</th>\n",
       "      <td>Binay</td>\n",
       "      <td>5</td>\n",
       "    </tr>\n",
       "    <tr>\n",
       "      <th>12</th>\n",
       "      <td>Ejercito</td>\n",
       "      <td>5</td>\n",
       "    </tr>\n",
       "    <tr>\n",
       "      <th>13</th>\n",
       "      <td>Aquino</td>\n",
       "      <td>5</td>\n",
       "    </tr>\n",
       "    <tr>\n",
       "      <th>14</th>\n",
       "      <td>Estrada</td>\n",
       "      <td>5</td>\n",
       "    </tr>\n",
       "    <tr>\n",
       "      <th>15</th>\n",
       "      <td>Roxas</td>\n",
       "      <td>5</td>\n",
       "    </tr>\n",
       "    <tr>\n",
       "      <th>16</th>\n",
       "      <td>Osmena</td>\n",
       "      <td>5</td>\n",
       "    </tr>\n",
       "    <tr>\n",
       "      <th>17</th>\n",
       "      <td>Ong</td>\n",
       "      <td>3</td>\n",
       "    </tr>\n",
       "    <tr>\n",
       "      <th>18</th>\n",
       "      <td>Mangudadatu</td>\n",
       "      <td>3</td>\n",
       "    </tr>\n",
       "    <tr>\n",
       "      <th>19</th>\n",
       "      <td>Manicad</td>\n",
       "      <td>3</td>\n",
       "    </tr>\n",
       "    <tr>\n",
       "      <th>20</th>\n",
       "      <td>Diokno</td>\n",
       "      <td>3</td>\n",
       "    </tr>\n",
       "    <tr>\n",
       "      <th>21</th>\n",
       "      <td>Enrile</td>\n",
       "      <td>3</td>\n",
       "    </tr>\n",
       "    <tr>\n",
       "      <th>22</th>\n",
       "      <td>Alejano</td>\n",
       "      <td>3</td>\n",
       "    </tr>\n",
       "    <tr>\n",
       "      <th>23</th>\n",
       "      <td>Colmenares</td>\n",
       "      <td>3</td>\n",
       "    </tr>\n",
       "    <tr>\n",
       "      <th>24</th>\n",
       "      <td>Gutoc</td>\n",
       "      <td>3</td>\n",
       "    </tr>\n",
       "    <tr>\n",
       "      <th>25</th>\n",
       "      <td>Macalintal</td>\n",
       "      <td>3</td>\n",
       "    </tr>\n",
       "    <tr>\n",
       "      <th>26</th>\n",
       "      <td>Tanada</td>\n",
       "      <td>3</td>\n",
       "    </tr>\n",
       "    <tr>\n",
       "      <th>27</th>\n",
       "      <td>Gadon</td>\n",
       "      <td>4</td>\n",
       "    </tr>\n",
       "    <tr>\n",
       "      <th>28</th>\n",
       "      <td>Hilbay</td>\n",
       "      <td>4</td>\n",
       "    </tr>\n",
       "    <tr>\n",
       "      <th>29</th>\n",
       "      <td>Aguilar</td>\n",
       "      <td>4</td>\n",
       "    </tr>\n",
       "    <tr>\n",
       "      <th>...</th>\n",
       "      <td>...</td>\n",
       "      <td>...</td>\n",
       "    </tr>\n",
       "    <tr>\n",
       "      <th>32</th>\n",
       "      <td>Mangondato</td>\n",
       "      <td>4</td>\n",
       "    </tr>\n",
       "    <tr>\n",
       "      <th>33</th>\n",
       "      <td>Escudero</td>\n",
       "      <td>4</td>\n",
       "    </tr>\n",
       "    <tr>\n",
       "      <th>34</th>\n",
       "      <td>Padilla</td>\n",
       "      <td>2</td>\n",
       "    </tr>\n",
       "    <tr>\n",
       "      <th>35</th>\n",
       "      <td>Arellano</td>\n",
       "      <td>2</td>\n",
       "    </tr>\n",
       "    <tr>\n",
       "      <th>36</th>\n",
       "      <td>Montano</td>\n",
       "      <td>2</td>\n",
       "    </tr>\n",
       "    <tr>\n",
       "      <th>37</th>\n",
       "      <td>De Guzman</td>\n",
       "      <td>2</td>\n",
       "    </tr>\n",
       "    <tr>\n",
       "      <th>38</th>\n",
       "      <td>Chavez</td>\n",
       "      <td>2</td>\n",
       "    </tr>\n",
       "    <tr>\n",
       "      <th>39</th>\n",
       "      <td>Abejo</td>\n",
       "      <td>2</td>\n",
       "    </tr>\n",
       "    <tr>\n",
       "      <th>40</th>\n",
       "      <td>Casino</td>\n",
       "      <td>2</td>\n",
       "    </tr>\n",
       "    <tr>\n",
       "      <th>41</th>\n",
       "      <td>Afuang</td>\n",
       "      <td>2</td>\n",
       "    </tr>\n",
       "    <tr>\n",
       "      <th>42</th>\n",
       "      <td>Albani</td>\n",
       "      <td>2</td>\n",
       "    </tr>\n",
       "    <tr>\n",
       "      <th>43</th>\n",
       "      <td>Roleda</td>\n",
       "      <td>2</td>\n",
       "    </tr>\n",
       "    <tr>\n",
       "      <th>44</th>\n",
       "      <td>Generoso</td>\n",
       "      <td>2</td>\n",
       "    </tr>\n",
       "    <tr>\n",
       "      <th>45</th>\n",
       "      <td>Sahidulla</td>\n",
       "      <td>2</td>\n",
       "    </tr>\n",
       "    <tr>\n",
       "      <th>46</th>\n",
       "      <td>Jangao</td>\n",
       "      <td>2</td>\n",
       "    </tr>\n",
       "    <tr>\n",
       "      <th>47</th>\n",
       "      <td>Arias</td>\n",
       "      <td>2</td>\n",
       "    </tr>\n",
       "    <tr>\n",
       "      <th>48</th>\n",
       "      <td>Alfajora</td>\n",
       "      <td>2</td>\n",
       "    </tr>\n",
       "    <tr>\n",
       "      <th>49</th>\n",
       "      <td>Matula</td>\n",
       "      <td>2</td>\n",
       "    </tr>\n",
       "    <tr>\n",
       "      <th>50</th>\n",
       "      <td>Francisco</td>\n",
       "      <td>2</td>\n",
       "    </tr>\n",
       "    <tr>\n",
       "      <th>51</th>\n",
       "      <td>Nalliw</td>\n",
       "      <td>2</td>\n",
       "    </tr>\n",
       "    <tr>\n",
       "      <th>52</th>\n",
       "      <td>Arcega</td>\n",
       "      <td>2</td>\n",
       "    </tr>\n",
       "    <tr>\n",
       "      <th>53</th>\n",
       "      <td>Valdes</td>\n",
       "      <td>2</td>\n",
       "    </tr>\n",
       "    <tr>\n",
       "      <th>54</th>\n",
       "      <td>Caceres</td>\n",
       "      <td>2</td>\n",
       "    </tr>\n",
       "    <tr>\n",
       "      <th>55</th>\n",
       "      <td>Austria</td>\n",
       "      <td>2</td>\n",
       "    </tr>\n",
       "    <tr>\n",
       "      <th>56</th>\n",
       "      <td>Baldevarona</td>\n",
       "      <td>2</td>\n",
       "    </tr>\n",
       "    <tr>\n",
       "      <th>57</th>\n",
       "      <td>Mallillin</td>\n",
       "      <td>2</td>\n",
       "    </tr>\n",
       "    <tr>\n",
       "      <th>58</th>\n",
       "      <td>Gaddi</td>\n",
       "      <td>2</td>\n",
       "    </tr>\n",
       "    <tr>\n",
       "      <th>59</th>\n",
       "      <td>Javellana</td>\n",
       "      <td>2</td>\n",
       "    </tr>\n",
       "    <tr>\n",
       "      <th>60</th>\n",
       "      <td>Guigayuma</td>\n",
       "      <td>2</td>\n",
       "    </tr>\n",
       "    <tr>\n",
       "      <th>61</th>\n",
       "      <td>Meniano</td>\n",
       "      <td>2</td>\n",
       "    </tr>\n",
       "  </tbody>\n",
       "</table>\n",
       "<p>62 rows × 2 columns</p>\n",
       "</div>"
      ],
      "text/plain": [
       "       candidate  overall cluster\n",
       "0         Villar                1\n",
       "1            Poe                1\n",
       "2             Go                1\n",
       "3       Cayetano                1\n",
       "4      Dela Rosa                1\n",
       "5         Angara                1\n",
       "6          Lapid                5\n",
       "7         Marcos                5\n",
       "8      Tolentino                5\n",
       "9       Pimentel                5\n",
       "10  Bong Revilla                5\n",
       "11         Binay                5\n",
       "12      Ejercito                5\n",
       "13        Aquino                5\n",
       "14       Estrada                5\n",
       "15         Roxas                5\n",
       "16        Osmena                5\n",
       "17           Ong                3\n",
       "18   Mangudadatu                3\n",
       "19       Manicad                3\n",
       "20        Diokno                3\n",
       "21        Enrile                3\n",
       "22       Alejano                3\n",
       "23    Colmenares                3\n",
       "24         Gutoc                3\n",
       "25    Macalintal                3\n",
       "26        Tanada                3\n",
       "27         Gadon                4\n",
       "28        Hilbay                4\n",
       "29       Aguilar                4\n",
       "..           ...              ...\n",
       "32    Mangondato                4\n",
       "33      Escudero                4\n",
       "34       Padilla                2\n",
       "35      Arellano                2\n",
       "36       Montano                2\n",
       "37     De Guzman                2\n",
       "38        Chavez                2\n",
       "39         Abejo                2\n",
       "40        Casino                2\n",
       "41        Afuang                2\n",
       "42        Albani                2\n",
       "43        Roleda                2\n",
       "44      Generoso                2\n",
       "45     Sahidulla                2\n",
       "46        Jangao                2\n",
       "47         Arias                2\n",
       "48      Alfajora                2\n",
       "49        Matula                2\n",
       "50     Francisco                2\n",
       "51        Nalliw                2\n",
       "52        Arcega                2\n",
       "53        Valdes                2\n",
       "54       Caceres                2\n",
       "55       Austria                2\n",
       "56   Baldevarona                2\n",
       "57     Mallillin                2\n",
       "58         Gaddi                2\n",
       "59     Javellana                2\n",
       "60     Guigayuma                2\n",
       "61       Meniano                2\n",
       "\n",
       "[62 rows x 2 columns]"
      ]
     },
     "execution_count": 43,
     "metadata": {},
     "output_type": "execute_result"
    }
   ],
   "source": [
    "overall_df"
   ]
  },
  {
   "cell_type": "code",
   "execution_count": 30,
   "metadata": {},
   "outputs": [],
   "source": [
    "# overall_df.to_csv ('2019_clusters.csv', index = False, header=True)"
   ]
  },
  {
   "cell_type": "markdown",
   "metadata": {},
   "source": [
    "## 2D Plot of Clusters"
   ]
  },
  {
   "cell_type": "code",
   "execution_count": 39,
   "metadata": {},
   "outputs": [
    {
     "data": {
      "image/png": "[encoded data removed]",
      "text/plain": [
       "<Figure size 576x432 with 1 Axes>"
      ]
     },
     "metadata": {
      "needs_background": "light"
     },
     "output_type": "display_data"
    }
   ],
   "source": [
    "plt.figure(figsize=(8,6))\n",
    "\n",
    "for j in range(max(overall_labels)+1):\n",
    "    index = np.where(overall_labels==j)[0]\n",
    "    cluster = reduced_features[index]\n",
    "    \n",
    "    xx = cluster.T[0] #set x-values as PC1\n",
    "    yy = cluster.T[1] #set y-values as PC2\n",
    "    \n",
    "    plt.scatter(xx , yy, label='cluster '+str(j+1), marker='o',s=50)\n",
    "    \n",
    "plt.xlabel('PC1',fontsize=16)\n",
    "plt.ylabel('PC2',fontsize=16)\n",
    "\n",
    "plt.legend(fontsize=14)\n",
    "# plt.savefig('2019_clusters.png',dpi=600,bbox_inches='tight')\n",
    "plt.show()"
   ]
  }
 ],
 "metadata": {
  "kernelspec": {
   "display_name": "Python 3",
   "language": "python",
   "name": "python3"
  },
  "language_info": {
   "codemirror_mode": {
    "name": "ipython",
    "version": 3
   },
   "file_extension": ".py",
   "mimetype": "text/x-python",
   "name": "python",
   "nbconvert_exporter": "python",
   "pygments_lexer": "ipython3",
   "version": "3.6.7"
  }
 },
 "nbformat": 4,
 "nbformat_minor": 4
}
